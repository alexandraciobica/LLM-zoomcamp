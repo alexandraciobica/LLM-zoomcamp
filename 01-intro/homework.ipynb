{
 "cells": [
  {
   "cell_type": "code",
   "execution_count": 10,
   "id": "e2c874e1-27c7-42fa-847a-e47f50c16241",
   "metadata": {},
   "outputs": [],
   "source": [
    "import openai"
   ]
  },
  {
   "cell_type": "code",
   "execution_count": 11,
   "id": "97caad80-dd08-447c-bed4-aa91ae1cd3c5",
   "metadata": {},
   "outputs": [
    {
     "name": "stdout",
     "output_type": "stream",
     "text": [
      "1.35.3\n"
     ]
    }
   ],
   "source": [
    "print(openai.VERSION)"
   ]
  },
  {
   "cell_type": "code",
   "execution_count": 12,
   "id": "50e33036-ec75-4286-b082-4c234cf135af",
   "metadata": {},
   "outputs": [],
   "source": [
    "# from openai import OpenAI()\n",
    "from openai._client import OpenAI"
   ]
  },
  {
   "cell_type": "code",
   "execution_count": 14,
   "id": "dd15d367-cb07-4248-9b77-4aeaa7f82be5",
   "metadata": {},
   "outputs": [],
   "source": [
    "client = OpenAI()"
   ]
  },
  {
   "cell_type": "code",
   "execution_count": 4,
   "id": "9b40a08c-35fd-4414-83a0-b1e0c881365b",
   "metadata": {},
   "outputs": [],
   "source": [
    "import os"
   ]
  },
  {
   "cell_type": "code",
   "execution_count": 13,
   "id": "29920fae-854e-464d-b107-dd4c7e6f2a58",
   "metadata": {},
   "outputs": [],
   "source": [
    "# os.environ"
   ]
  },
  {
   "cell_type": "code",
   "execution_count": 18,
   "id": "dc461452-eaca-4fcc-b330-97a68c5fb2a3",
   "metadata": {},
   "outputs": [],
   "source": [
    "response = client.chat.completions.create(\n",
    "    model = 'gpt-4o',\n",
    "    messages=[{\"role\": \"user\", \"content\": \"is it too late to join the course?\"}]\n",
    ")"
   ]
  },
  {
   "cell_type": "code",
   "execution_count": 20,
   "id": "63cc50ad-d033-4aa8-987f-cd2828962a49",
   "metadata": {},
   "outputs": [
    {
     "data": {
      "text/plain": [
       "\"It's never too late to inquire about joining a course! However, whether you can still enroll depends on several factors:\\n\\n1. **Enrollment Deadlines:** Each course has specific enrollment deadlines. Check the official website or contact the admissions office to find out if the deadline has passed.\\n2. **Course Availability:** Some courses may offer rolling admissions or late registration options, while others may have strict start dates.\\n3. **Prerequisites:** Ensure you meet any prerequisites or requirements needed for the course.\\n4. **Instructor/Institution Policy:** The course instructor or the institution may have policies in place for late enrollment, including potential penalties or additional work to catch up.\\n\\nIf the deadline has passed, consider reaching out to the course administrator or instructor to discuss your situation. Sometimes exceptions can be made, or advice can be given for the next available session.\\n\\nIt's always worth asking!\""
      ]
     },
     "execution_count": 20,
     "metadata": {},
     "output_type": "execute_result"
    }
   ],
   "source": [
    "response.choices[0].message.content"
   ]
  }
 ],
 "metadata": {
  "kernelspec": {
   "display_name": "Python 3 (ipykernel)",
   "language": "python",
   "name": "python3"
  },
  "language_info": {
   "codemirror_mode": {
    "name": "ipython",
    "version": 3
   },
   "file_extension": ".py",
   "mimetype": "text/x-python",
   "name": "python",
   "nbconvert_exporter": "python",
   "pygments_lexer": "ipython3",
   "version": "3.11.5"
  }
 },
 "nbformat": 4,
 "nbformat_minor": 5
}
